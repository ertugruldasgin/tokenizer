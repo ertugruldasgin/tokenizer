{
 "cells": [
  {
   "cell_type": "code",
   "execution_count": 9,
   "metadata": {},
   "outputs": [],
   "source": [
    "import turkish_tokenizer as tt\n",
    "\n",
    "myDict = tt.reverse_dict\n",
    "\n",
    "import json\n",
    "\n",
    "f = open(\"reverse_dict.json\", \"w\")\n",
    "json.dump(myDict, f, ensure_ascii=False)"
   ]
  },
  {
   "cell_type": "code",
   "execution_count": 2,
   "metadata": {},
   "outputs": [
    {
     "name": "stdout",
     "output_type": "stream",
     "text": [
      "['yüksek', 'yükseğ', 'yükse']\n",
      "----\n",
      "203\n",
      "----\n",
      "1\n",
      "['küçük', 'küçüğ', 'küçü']\n",
      "----\n",
      "256\n",
      "----\n",
      "2\n",
      "['sıcak', 'sıcağ', 'sıca']\n",
      "----\n",
      "678\n",
      "----\n",
      "3\n",
      "['soğuk', 'soğuğ', 'soğu']\n",
      "----\n",
      "1275\n",
      "----\n",
      "4\n",
      "['ufak', 'ufağ', 'ufa']\n",
      "----\n",
      "2021\n",
      "----\n",
      "5\n",
      "['çabuk', 'çabuğ', 'çabu']\n",
      "----\n",
      "2416\n",
      "----\n",
      "6\n",
      "['seyrek', 'seyreğ', 'seyre']\n",
      "----\n",
      "5720\n",
      "----\n",
      "7\n",
      "['katık', 'katığ', 'katk']\n",
      "----\n",
      "6682\n",
      "----\n",
      "8\n",
      "['seçik', 'seçiğ', 'seçk']\n",
      "----\n",
      "12761\n",
      "----\n",
      "9\n",
      "['tutuk', 'tutuğ', 'tutk']\n",
      "----\n",
      "15260\n",
      "----\n",
      "10\n",
      "['yı', 'yi', 'yu', 'yü']\n",
      "----\n",
      "22273\n",
      "----\n",
      "11\n",
      "['da', 'de', 'ta', 'te']\n",
      "----\n",
      "22277\n",
      "----\n",
      "12\n",
      "['dan', 'den', 'tan', 'ten']\n",
      "----\n",
      "22278\n",
      "----\n",
      "13\n",
      "['ın', 'in', 'un', 'ün']\n",
      "----\n",
      "22279\n",
      "----\n",
      "14\n",
      "['nın', 'nin', 'nun', 'nün']\n",
      "----\n",
      "22280\n",
      "----\n",
      "15\n",
      "['la', 'le', 'yla', 'yle']\n",
      "----\n",
      "22281\n",
      "----\n",
      "16\n",
      "['ım', 'im', 'um', 'üm']\n",
      "----\n",
      "22282\n",
      "----\n",
      "17\n",
      "['ız', 'iz', 'uz', 'üz']\n",
      "----\n",
      "22285\n",
      "----\n",
      "18\n",
      "['sı', 'si', 'su', 'sü']\n",
      "----\n",
      "22286\n",
      "----\n",
      "19\n",
      "['mak', 'mek', 'may', 'mey']\n",
      "----\n",
      "22287\n",
      "----\n",
      "20\n",
      "['acak', 'ecek', 'acağ', 'eceğ', 'yacak', 'yecek', 'yacağ', 'yeceğ']\n",
      "----\n",
      "22290\n",
      "----\n",
      "21\n",
      "['dı', 'di', 'du', 'dü', 'tı', 'ti', 'tu', 'tü']\n",
      "----\n",
      "22296\n",
      "----\n",
      "22\n",
      "['mış', 'miş', 'muş', 'müş']\n",
      "----\n",
      "22297\n",
      "----\n",
      "23\n",
      "['lık', 'lik', 'luk', 'lük', 'lığ', 'liğ', 'luğ', 'lüğ']\n",
      "----\n",
      "22299\n",
      "----\n",
      "24\n",
      "['cı', 'ci', 'cu', 'cü', 'çı', 'çi', 'çu', 'çü']\n",
      "----\n",
      "22300\n",
      "----\n",
      "25\n",
      "['cık', 'cik', 'cuk', 'cük', 'çık', 'çik', 'çuk', 'çük', 'cığ', 'ciğ', 'cuğ', 'cüğ', 'çığ', 'çiğ', 'çuğ', 'çüğ']\n",
      "----\n",
      "22302\n",
      "----\n",
      "26\n",
      "['dır', 'dir', 'dur', 'dür', 'tır', 'tir', 'tur', 'tür']\n",
      "----\n",
      "22317\n",
      "----\n",
      "27\n",
      "['lı', 'li', 'lu', 'lü']\n",
      "----\n",
      "22324\n",
      "----\n",
      "28\n",
      "['sız', 'siz', 'suz', 'süz']\n",
      "----\n",
      "22325\n",
      "----\n",
      "29\n",
      "['ncı', 'nci', 'ncü']\n",
      "----\n",
      "22326\n",
      "----\n",
      "30\n"
     ]
    }
   ],
   "source": [
    "count = 0\n",
    "for id in myDict:\n",
    "    if len(myDict[id]) > 2:\n",
    "        count += 1\n",
    "        print(myDict[id])\n",
    "        print(\"----\")\n",
    "        print(id)\n",
    "        print(\"----\")\n",
    "        print(count)"
   ]
  },
  {
   "cell_type": "code",
   "execution_count": 3,
   "metadata": {},
   "outputs": [
    {
     "data": {
      "text/plain": [
       "{'tokens': ['cek'], 'ids': [3021]}"
      ]
     },
     "execution_count": 3,
     "metadata": {},
     "output_type": "execute_result"
    }
   ],
   "source": [
    "tt.tokenize(\"cek\")"
   ]
  },
  {
   "cell_type": "code",
   "execution_count": 4,
   "metadata": {},
   "outputs": [
    {
     "name": "stdout",
     "output_type": "stream",
     "text": [
      "[0, 916, 1, 3954, 22680, 1, 1, 160, 22268, 1, 20008, 1, 378, 1, 101, 22287, 1, 19988, 1, 502, 22268, 1, 113, 22279, 22278, 22580, 1, 598, 1, 3954, 27576, 23776, 1, 1864, 22284, 22275, 1, 611, 22268, 1, 113, 22279, 22278, 1, 449, 22281, 22284, 22339, 1, 3954, 22680, 1, 269, 22320, 22298, 2]\n"
     ]
    }
   ],
   "source": [
    "myids = tt.tokenize(\"\"\"Yapay zekâ  insanlar da dahil olmak üzere hayvanlar tarafından, doğal zekânın aksine makineler tarafından görüntülenen zekâ çeşididir\n",
    "\"\"\")[\"ids\"]\n",
    "print(myids)"
   ]
  },
  {
   "cell_type": "code",
   "execution_count": 5,
   "metadata": {},
   "outputs": [
    {
     "name": "stdout",
     "output_type": "stream",
     "text": [
      "['cek']\n"
     ]
    },
    {
     "data": {
      "text/plain": [
       "'cek'"
      ]
     },
     "execution_count": 5,
     "metadata": {},
     "output_type": "execute_result"
    }
   ],
   "source": [
    "tt.decode_text([3021])"
   ]
  },
  {
   "cell_type": "code",
   "execution_count": 6,
   "metadata": {},
   "outputs": [
    {
     "name": "stdout",
     "output_type": "stream",
     "text": [
      "['<uppercase>']\n",
      "['yapay']\n",
      "['<space>']\n",
      "['zek']\n",
      "['â']\n",
      "['<space>']\n",
      "['<space>']\n",
      "['insan']\n",
      "['lar', 'ler']\n",
      "['<space>']\n",
      "['da', 'du']\n",
      "['<space>']\n",
      "['dahil']\n",
      "['<space>']\n",
      "['ol']\n",
      "['mak', 'mek', 'may', 'mey']\n",
      "['<space>']\n",
      "['üzere']\n",
      "['<space>']\n",
      "['hayvan']\n",
      "['lar', 'ler']\n",
      "['<space>']\n",
      "['taraf']\n",
      "['ın', 'in', 'un', 'ün']\n",
      "['dan', 'den', 'tan', 'ten']\n",
      "[',']\n",
      "['<space>']\n",
      "['doğal']\n",
      "['<space>']\n",
      "['zek']\n",
      "['ân']\n",
      "['ın']\n",
      "['<space>']\n",
      "['aksi']\n",
      "['n']\n",
      "['e']\n",
      "['<space>']\n",
      "['makine']\n",
      "['lar', 'ler']\n",
      "['<space>']\n",
      "['taraf']\n",
      "['ın', 'in', 'un', 'ün']\n",
      "['dan', 'den', 'tan', 'ten']\n",
      "['<space>']\n",
      "['görüntü']\n",
      "['la', 'le', 'yla', 'yle']\n",
      "['n']\n",
      "['an', 'en']\n",
      "['<space>']\n",
      "['zek']\n",
      "['â']\n",
      "['<space>']\n",
      "['çeşit', 'çeşid']\n",
      "['idi']\n",
      "['r']\n",
      "['<newline>']\n"
     ]
    },
    {
     "data": {
      "text/plain": [
       "'Yapay zekâ  insanlar da dahil olmak üzere hayvanlar tarafından, doğal zekânın aksine makinelar tarafından görüntülanan zekâ çeşididir\\n'"
      ]
     },
     "execution_count": 6,
     "metadata": {},
     "output_type": "execute_result"
    }
   ],
   "source": [
    "tt.decode_text(myids)"
   ]
  },
  {
   "cell_type": "code",
   "execution_count": null,
   "metadata": {},
   "outputs": [],
   "source": []
  }
 ],
 "metadata": {
  "kernelspec": {
   "display_name": "Python 3",
   "language": "python",
   "name": "python3"
  },
  "language_info": {
   "codemirror_mode": {
    "name": "ipython",
    "version": 3
   },
   "file_extension": ".py",
   "mimetype": "text/x-python",
   "name": "python",
   "nbconvert_exporter": "python",
   "pygments_lexer": "ipython3",
   "version": "3.12.5"
  }
 },
 "nbformat": 4,
 "nbformat_minor": 2
}
