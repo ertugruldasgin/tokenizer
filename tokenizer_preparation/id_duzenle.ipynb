{
 "cells": [
  {
   "cell_type": "code",
   "execution_count": 1,
   "metadata": {},
   "outputs": [
    {
     "data": {
      "text/plain": [
       "(24187, 22267, 'kok_22267')"
      ]
     },
     "execution_count": 1,
     "metadata": {},
     "output_type": "execute_result"
    }
   ],
   "source": [
    "import json\n",
    "\n",
    "with open('../turkish_tokenizer/kokler_v06.json', 'r') as f:\n",
    "    kokler = json.load(f)\n",
    "\n",
    "kokler_keys = list(kokler.keys())\n",
    "\n",
    "last_kok = kokler_keys[-1]\n",
    "len(kokler), kokler[last_kok], last_kok\n"
   ]
  },
  {
   "cell_type": "code",
   "execution_count": 107,
   "metadata": {},
   "outputs": [
    {
     "data": {
      "text/plain": [
       "(176, 20005, 'en')"
      ]
     },
     "execution_count": 107,
     "metadata": {},
     "output_type": "execute_result"
    }
   ],
   "source": [
    "with open('../turkish_tokenizer/ekler_v04.json', 'r') as f:\n",
    "    ekler = json.load(f)\n",
    "\n",
    "last_ek = list(ekler.keys())[-1]\n",
    "len(ekler), ekler[last_ek], last_ek\n"
   ]
  },
  {
   "cell_type": "code",
   "execution_count": 108,
   "metadata": {},
   "outputs": [
    {
     "data": {
      "text/plain": [
       "(9994, 30004, 'diyalog')"
      ]
     },
     "execution_count": 108,
     "metadata": {},
     "output_type": "execute_result"
    }
   ],
   "source": [
    "with open('../turkish_tokenizer/bpe_v02.json', 'r') as f:\n",
    "    bpe = json.load(f)\n",
    "\n",
    "last_bpe = list(bpe.keys())[-1]\n",
    "len(bpe), bpe[last_bpe], last_bpe\n"
   ]
  },
  {
   "cell_type": "code",
   "execution_count": 104,
   "metadata": {},
   "outputs": [
    {
     "data": {
      "text/plain": [
       "(71, 300)"
      ]
     },
     "execution_count": 104,
     "metadata": {},
     "output_type": "execute_result"
    }
   ],
   "source": [
    "20005 - 19934, 22568 - 22268"
   ]
  },
  {
   "cell_type": "code",
   "execution_count": 2,
   "metadata": {},
   "outputs": [
    {
     "data": {
      "text/plain": [
       "22268"
      ]
     },
     "execution_count": 2,
     "metadata": {},
     "output_type": "execute_result"
    }
   ],
   "source": [
    "\"\"\" # There should be 32768 tokens in total\n",
    "# last 100000 tokens are bpe tokens\n",
    "# second last 500 tokens are ekler\n",
    "# first 22268 tokens are kokler \"\"\"\n",
    "\n",
    "\n",
    "current_last_kok_id = kokler[last_kok]\n",
    "\n",
    "counter = current_last_kok_id\n",
    "for i in range(current_last_kok_id + 1, 22269):\n",
    "    kokler[f'kok_{counter}'] = counter\n",
    "    counter += 1\n",
    " \n",
    "with open('../turkish_tokenizer/kokler_v07.json', 'w', encoding='utf-8') as f:\n",
    "    json.dump(kokler, f, ensure_ascii=False)\n",
    "\n",
    "counter"
   ]
  },
  {
   "cell_type": "code",
   "execution_count": 110,
   "metadata": {},
   "outputs": [
    {
     "data": {
      "text/plain": [
       "22339"
      ]
     },
     "execution_count": 110,
     "metadata": {},
     "output_type": "execute_result"
    }
   ],
   "source": [
    "ekler_keys = list(ekler.keys())\n",
    "temp_ek_id = ekler[ekler_keys[0]]\n",
    "\n",
    "for key in ekler_keys:\n",
    "  if ekler[key] != temp_ek_id:\n",
    "    counter += 1\n",
    "  temp_ek_id = ekler[key]\n",
    "  ekler[key] = counter\n",
    "\n",
    "counter\n",
    "  "
   ]
  },
  {
   "cell_type": "code",
   "execution_count": 111,
   "metadata": {},
   "outputs": [
    {
     "data": {
      "text/plain": [
       "22568"
      ]
     },
     "execution_count": 111,
     "metadata": {},
     "output_type": "execute_result"
    }
   ],
   "source": [
    "for i in range(counter, counter + 229):\n",
    "  counter += 1\n",
    "  ekler[f'ek_{counter}'] = counter\n",
    "  \n",
    "with open('../turkish_tokenizer/ekler_v05.json', 'w', encoding='utf-8') as f:\n",
    "    json.dump(ekler, f, ensure_ascii=False)\n",
    "\n",
    "counter"
   ]
  },
  {
   "cell_type": "code",
   "execution_count": 112,
   "metadata": {},
   "outputs": [
    {
     "data": {
      "text/plain": [
       "32562"
      ]
     },
     "execution_count": 112,
     "metadata": {},
     "output_type": "execute_result"
    }
   ],
   "source": [
    "for key in bpe.keys():\n",
    "  counter += 1\n",
    "  bpe[key] = counter\n",
    "\n",
    "counter"
   ]
  },
  {
   "cell_type": "code",
   "execution_count": 114,
   "metadata": {},
   "outputs": [
    {
     "data": {
      "text/plain": [
       "32768"
      ]
     },
     "execution_count": 114,
     "metadata": {},
     "output_type": "execute_result"
    }
   ],
   "source": [
    "for i in range(205):\n",
    "  counter += 1\n",
    "  bpe[f'bpe_{counter}'] = counter\n",
    "\n",
    "counter\n"
   ]
  },
  {
   "cell_type": "code",
   "execution_count": 115,
   "metadata": {},
   "outputs": [
    {
     "data": {
      "text/plain": [
       "32768"
      ]
     },
     "execution_count": 115,
     "metadata": {},
     "output_type": "execute_result"
    }
   ],
   "source": [
    "with open('../turkish_tokenizer/bpe_v05.json', 'w', encoding='utf-8') as f:\n",
    "    json.dump(bpe, f, ensure_ascii=False)\n",
    "\n",
    "counter"
   ]
  }
 ],
 "metadata": {
  "kernelspec": {
   "display_name": "Python 3",
   "language": "python",
   "name": "python3"
  },
  "language_info": {
   "codemirror_mode": {
    "name": "ipython",
    "version": 3
   },
   "file_extension": ".py",
   "mimetype": "text/x-python",
   "name": "python",
   "nbconvert_exporter": "python",
   "pygments_lexer": "ipython3",
   "version": "3.9.6"
  }
 },
 "nbformat": 4,
 "nbformat_minor": 2
}
