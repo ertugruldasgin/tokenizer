{
 "cells": [
  {
   "cell_type": "code",
   "execution_count": 1,
   "id": "9e208d96",
   "metadata": {},
   "outputs": [],
   "source": [
    "import json\n",
    "\n",
    "with open(\"bpe_v05.json\", \"r\", encoding=\"utf-8\") as f:\n",
    "    bpe_tokens = json.load(f)\n",
    "\n",
    "with open(\"ekler_v05.json\", \"r\", encoding=\"utf-8\") as f:\n",
    "    suffixes = json.load(f)\n",
    "\n",
    "with open(\"kokler_v07.json\", \"r\", encoding=\"utf-8\") as f:\n",
    "    roots = json.load(f)"
   ]
  },
  {
   "cell_type": "code",
   "execution_count": 2,
   "id": "c23b6a29",
   "metadata": {},
   "outputs": [],
   "source": [
    "suffix_keys = set(suffixes.keys()) if isinstance(suffixes, dict) else set(suffixes)\n",
    "root_keys = set(roots.keys()) if isinstance(roots, dict) else set(roots)\n",
    "\n",
    "tokens_to_delete = suffix_keys.union(root_keys)"
   ]
  },
  {
   "cell_type": "code",
   "execution_count": 3,
   "id": "8eec5b7b",
   "metadata": {},
   "outputs": [
    {
     "name": "stdout",
     "output_type": "stream",
     "text": [
      "10199\n",
      "405\n",
      "405\n",
      "24194\n",
      "24194\n",
      "24582\n"
     ]
    }
   ],
   "source": [
    "print(len(bpe_tokens))\n",
    "print(len(suffixes))\n",
    "print(len(suffix_keys))\n",
    "print(len(roots))\n",
    "print(len(root_keys))\n",
    "print(len(tokens_to_delete))"
   ]
  },
  {
   "cell_type": "code",
   "execution_count": 4,
   "id": "dd0f02fa",
   "metadata": {},
   "outputs": [
    {
     "name": "stdout",
     "output_type": "stream",
     "text": [
      "Deleted: 3425\n",
      "Left: 6774\n"
     ]
    }
   ],
   "source": [
    "duplicates = {k: bpe_tokens[k] for k in tokens_to_delete if k in bpe_tokens}\n",
    "\n",
    "for k in duplicates:\n",
    "    del bpe_tokens[k]\n",
    "\n",
    "print(f\"Deleted: {len(duplicates)}\")\n",
    "print(f\"Left: {len(bpe_tokens)}\")"
   ]
  },
  {
   "cell_type": "code",
   "execution_count": 5,
   "id": "74d4c15e",
   "metadata": {},
   "outputs": [
    {
     "name": "stdout",
     "output_type": "stream",
     "text": [
      "New min id:  22569\n",
      "New max id:  29137\n",
      "Total token count:  6569\n"
     ]
    }
   ],
   "source": [
    "MAX_TOKENS = 32768\n",
    "starting_id = 22569\n",
    "new_bpe_tokens = {}\n",
    "\n",
    "for i, token in enumerate(bpe_tokens.keys()):\n",
    "    if (token[:4] != \"bpe_\"):\n",
    "        new_bpe_tokens[token] = starting_id + i\n",
    "\n",
    "\n",
    "print(\"New min id: \", min(new_bpe_tokens.values()))\n",
    "print(\"New max id: \", max(new_bpe_tokens.values()))\n",
    "print(\"Total token count: \", len(new_bpe_tokens))\n",
    "\n",
    "last_token = max(new_bpe_tokens.values())\n",
    "for id in range(last_token + 1, MAX_TOKENS):\n",
    "    filler = f\"bpe_{id}\"\n",
    "    new_bpe_tokens[filler] = id"
   ]
  },
  {
   "cell_type": "code",
   "execution_count": 6,
   "id": "45dbd151",
   "metadata": {},
   "outputs": [
    {
     "data": {
      "text/plain": [
       "32767"
      ]
     },
     "execution_count": 6,
     "metadata": {},
     "output_type": "execute_result"
    }
   ],
   "source": [
    "max(list(new_bpe_tokens.values()))"
   ]
  },
  {
   "cell_type": "code",
   "execution_count": null,
   "id": "f2b6ad1d",
   "metadata": {},
   "outputs": [],
   "source": [
    "with open(\"bpe_v06.json\", \"w\", encoding=\"utf-8\") as f:\n",
    "    json.dump(new_bpe_tokens, f, ensure_ascii=False, indent=2)"
   ]
  }
 ],
 "metadata": {
  "kernelspec": {
   "display_name": "Python 3",
   "language": "python",
   "name": "python3"
  },
  "language_info": {
   "codemirror_mode": {
    "name": "ipython",
    "version": 3
   },
   "file_extension": ".py",
   "mimetype": "text/x-python",
   "name": "python",
   "nbconvert_exporter": "python",
   "pygments_lexer": "ipython3",
   "version": "3.12.3"
  }
 },
 "nbformat": 4,
 "nbformat_minor": 5
}
