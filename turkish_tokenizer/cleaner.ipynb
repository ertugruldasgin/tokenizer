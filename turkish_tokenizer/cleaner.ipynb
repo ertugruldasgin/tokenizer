{
 "cells": [
  {
   "cell_type": "code",
   "execution_count": 17,
   "id": "e1d6dcdb",
   "metadata": {},
   "outputs": [],
   "source": [
    "import json\n",
    "\n",
    "with open(\"bpe_v05.json\", \"r\", encoding=\"utf-8\") as f:\n",
    "    bpe_tokens = json.load(f)\n",
    "\n",
    "with open(\"ekler_v05.json\", \"r\", encoding=\"utf-8\") as f:\n",
    "    suffixes = json.load(f)\n",
    "\n",
    "with open(\"kokler_v07.json\", \"r\", encoding=\"utf-8\") as f:\n",
    "    roots = json.load(f)"
   ]
  },
  {
   "cell_type": "code",
   "execution_count": 18,
   "id": "ce7861a1",
   "metadata": {},
   "outputs": [],
   "source": [
    "roots_keys = set(roots.keys())\n",
    "bpe_keys = set(bpe_tokens.keys())\n",
    "suffixes_keys = set(suffixes.keys())"
   ]
  },
  {
   "cell_type": "code",
   "execution_count": null,
   "id": "1de5dce8",
   "metadata": {},
   "outputs": [
    {
     "data": {
      "text/plain": [
       "17"
      ]
     },
     "execution_count": 44,
     "metadata": {},
     "output_type": "execute_result"
    }
   ],
   "source": [
    "conflict_root_suffix = roots_keys.intersection(suffixes_keys)\n",
    "conflict_bpe_suffix = bpe_keys.intersection(suffixes_keys)\n",
    "conflict_bpe_roots = bpe_keys.intersection(roots_keys)\n",
    "\n",
    "conflict_all = conflict_root_suffix.intersection(conflict_bpe_suffix.intersection(conflict_bpe_roots))\n",
    "\n",
    "for key in conflict_root_suffix:\n",
    "    del(suffixes[key])\n",
    "\n",
    "del_from_bpe = conflict_bpe_suffix.union(conflict_root_suffix) - conflict_all\n",
    "\n",
    "for key in del_from_bpe:\n",
    "    del(bpe_tokens[key])"
   ]
  },
  {
   "cell_type": "code",
   "execution_count": null,
   "id": "e46103c3",
   "metadata": {},
   "outputs": [],
   "source": [
    "SFX_START = 22268\n",
    "SFX_END   = 22568\n",
    "\n",
    "new_suffixes = {}\n",
    "current_id = SFX_START\n",
    "suffixes_key_list = list(suffixes.keys())\n",
    "\n",
    "i = 0\n",
    "while (suffixes_key_list[i][:3] != \"ek_\" and i < SFX_END - SFX_START):\n",
    "    if (suffixes[suffixes_key_list[i]] != current_id):\n",
    "        current_id += 1\n",
    "    \n",
    "    new_suffixes[suffixes_key_list[i]] = current_id\n",
    "    i += 1\n",
    "\n",
    "for i in range(current_id, SFX_END):\n",
    "    new_suffixes[f\"ek_{i}\"] = i\n"
   ]
  },
  {
   "cell_type": "code",
   "execution_count": null,
   "id": "722bc272",
   "metadata": {},
   "outputs": [],
   "source": [
    "new_suffixes"
   ]
  },
  {
   "cell_type": "code",
   "execution_count": null,
   "id": "dd9658a4",
   "metadata": {},
   "outputs": [],
   "source": [
    "BPE_START = 22569\n",
    "BPE_END   = 32767\n",
    "\n",
    "new_bpe = {}\n",
    "current_id = BPE_START\n",
    "bpe_keys_list = list(suffixes.keys())\n",
    "\n",
    "i = 0\n",
    "while (bpe_keys_list[i][:4] != \"bpe_\" and i < BPE_END - BPE_START):\n",
    "    if (bpe_tokens[bpe_keys_list[i]] != current_id):\n",
    "        current_id += 1\n",
    "    \n",
    "    new_bpe[bpe_keys_list[i]] = current_id\n",
    "    i += 1\n",
    "\n",
    "for i in range(current_id, BPE_END):\n",
    "    new_bpe[f\"bpe_{i}\"] = i"
   ]
  }
 ],
 "metadata": {
  "kernelspec": {
   "display_name": "Python 3",
   "language": "python",
   "name": "python3"
  },
  "language_info": {
   "codemirror_mode": {
    "name": "ipython",
    "version": 3
   },
   "file_extension": ".py",
   "mimetype": "text/x-python",
   "name": "python",
   "nbconvert_exporter": "python",
   "pygments_lexer": "ipython3",
   "version": "3.12.3"
  }
 },
 "nbformat": 4,
 "nbformat_minor": 5
}
